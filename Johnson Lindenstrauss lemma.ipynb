{
 "cells": [
  {
   "cell_type": "code",
   "execution_count": 1,
   "id": "0908e914",
   "metadata": {},
   "outputs": [],
   "source": [
    "import numpy as np\n",
    "import pandas as pd\n",
    "import matplotlib.pyplot as plt \n",
    "%matplotlib inline "
   ]
  },
  {
   "cell_type": "markdown",
   "id": "1ef451bd",
   "metadata": {},
   "source": [
    "## Projecting a vector on a (random) k-dimensional subspace preserves length\n",
    "\n",
    "Given a vector $u \\in \\mathbb{R}^d$, we want to project it on a given $k$ dimensional space that is spanned by vector $v_1,\\ldots,v_k$. Without any loss of generality, we may assume that this set of vectors are orthonormal, namely they are pairwise orthogonal and their norm is 1, i.e., $v_i^Tv_j=\\delta_{ij}$ where $\\delta_{ij}=1$ if $i=j$, otherwise $\\delta_{ij}= 0$.  \n",
    "\n",
    "Let's define $u'$ to be the projection of a vector $u$ on a vector $v$ of unit length. Clearly, $u'=\\lambda v$ for some real value $\\lambda$.  How can we find $\\lambda$? \n",
    "\n",
    "\n",
    "<img src=\"figs/projection.png\" width=\"100\">\n",
    "\n",
    "We know that $\\lambda v + x = u$ and $x$ is orthogonal to $v$. In other words $v^T(u-\\lambda v)=0 \\rightarrow v^Tu - \\lambda v^T v = 0 \\rightarrow  \\lambda  = v^T u$. Thus, the projection is $u'= (u^T v) v$. When we project u simultaneously to $v_1, \\ldots, v_k$ the coefficients are $u^T v_i$ along each $v_i$. This can be expressed as a matrix-vector multiplication $Ru$ where $R$ is a $k \\times dim$ matrix, with one row for each $v_i$.  \n"
   ]
  },
  {
   "cell_type": "code",
   "execution_count": 2,
   "id": "3d0ac793",
   "metadata": {},
   "outputs": [
    {
     "data": {
      "image/png": "[encoded data removed]",
      "text/plain": [
       "<Figure size 640x480 with 1 Axes>"
      ]
     },
     "metadata": {},
     "output_type": "display_data"
    },
    {
     "name": "stdout",
     "output_type": "stream",
     "text": [
      "[0.9999999999999999, 1.0, 0.9999999999999999, 1.0, 0.9999999999999999, 0.9999999999999999, 1.0, 0.9999999999999999, 0.9999999999999999, 1.0, 1.0000000000000002, 1.0, 0.9999999999999999, 0.9999999999999999, 1.0000000000000002, 0.9999999999999999, 0.9999999999999999, 1.0, 0.9999999999999999, 0.9999999999999999, 1.0000000000000002, 0.9999999999999999, 1.0, 1.0, 1.0000000000000002, 1.0, 1.0, 1.0, 1.0000000000000002, 1.0, 0.9999999999999999, 1.0, 1.0, 1.0, 0.9999999999999999, 0.9999999999999999, 0.9999999999999999, 1.0000000000000002, 0.9999999999999999, 0.9999999999999999, 0.9999999999999999, 0.9999999999999999, 0.9999999999999999, 1.0, 0.9999999999999999, 0.9999999999999999, 1.0, 1.0000000000000002, 0.9999999999999999, 0.9999999999999999, 0.9999999999999999, 1.0, 1.0, 0.9999999999999999, 1.0000000000000002, 1.0, 1.0000000000000002, 1.0, 1.0, 1.0000000000000002, 1.0000000000000002, 0.9999999999999999, 1.0, 1.0, 0.9999999999999999, 0.9999999999999999, 0.9999999999999999, 1.0, 1.0, 1.0, 0.9999999999999999, 1.0, 1.0, 0.9999999999999999, 0.9999999999999999, 0.9999999999999999, 1.0000000000000002, 0.9999999999999999, 1.0, 1.0, 1.0, 1.0, 0.9999999999999999, 0.9999999999999999, 0.9999999999999999, 0.9999999999999999, 1.0000000000000002, 1.0, 0.9999999999999999, 0.9999999999999999, 0.9999999999999998, 0.9999999999999999, 1.0000000000000002, 0.9999999999999999, 0.9999999999999999, 1.0, 1.0, 1.0, 1.0, 1.0]\n"
     ]
    }
   ],
   "source": [
    "def generate_random_orthonormal_matrix(k: int, d: int) -> np.array: \n",
    "    random_matrix = np.random.randn(d, k)\n",
    "    Q, R = np.linalg.qr(random_matrix)\n",
    "    Q = np.dot(Q, np.diag(np.sign(np.diag(R))))\n",
    "    return Q.T\n",
    "\n",
    "def random_orthonormal_project_vector(u: np.array, k: int) -> np.array:\n",
    "    R = generate_random_orthonormal_matrix(k, len(u))  \n",
    "    return np.sqrt(len(u) / k) * R @ u\n",
    "\n",
    "def experiment1(u, k, T=100):\n",
    "    res = [np.linalg.norm(u) / np.linalg.norm(random_orthonormal_project_vector(u, k)) for _ in range(T)]\n",
    "    plt.hist(res, bins=5, alpha=0.7, color='blue', edgecolor='black')\n",
    "    plt.axvline(1, color='red', linestyle='dashed', linewidth=2, label='Mean')\n",
    "    plt.xlabel('|u|/|v| ratio')\n",
    "    plt.ylabel('Frequency')\n",
    "    plt.show()\n",
    "    return res \n",
    "\n",
    "res = experiment1(np.ones(1000), 1000)\n",
    "print(res)"
   ]
  },
  {
   "cell_type": "markdown",
   "id": "7d30d7f0",
   "metadata": {},
   "source": [
    "#### Exercise  \n",
    "\n",
    "Prove that $\\mathbb{E}[||v||^2] = ||u||^2 $\n",
    "\n",
    "\n"
   ]
  },
  {
   "cell_type": "markdown",
   "id": "f703fa7e",
   "metadata": {},
   "source": [
    "# Random matrix generation "
   ]
  },
  {
   "cell_type": "code",
   "execution_count": 82,
   "id": "b6f2b459",
   "metadata": {},
   "outputs": [],
   "source": [
    "def generate_random_orthonormal_matrix(k: int, d: int) -> np.array: \n",
    "    uniform_random_matrix = np.random.rand(d, k)\n",
    "    normal_random_matrix = np.random.rand(d, k)\n",
    "    q1, _ = np.linalg.qr(uniform_random_matrix)\n",
    "    q2, _ = np.linalg.qr(normal_random_matrix)\n",
    "    return q1.T, q2.T, uniform_random_matrix.T, normal_random_matrix.T"
   ]
  },
  {
   "cell_type": "code",
   "execution_count": 90,
   "id": "4b1ce828",
   "metadata": {},
   "outputs": [
    {
     "data": {
      "text/plain": [
       "(2, 5)"
      ]
     },
     "execution_count": 90,
     "metadata": {},
     "output_type": "execute_result"
    }
   ],
   "source": [
    "a, b, c, d = generate_random_orthonormal_matrix(2,5) \n",
    "a.shape"
   ]
  },
  {
   "cell_type": "code",
   "execution_count": 96,
   "id": "d1d6907d",
   "metadata": {},
   "outputs": [
    {
     "name": "stdout",
     "output_type": "stream",
     "text": [
      "[[1. 0.]\n",
      " [0. 1.]]\n",
      "[[1. 0.]\n",
      " [0. 1.]]\n",
      "[[0.96671419 0.93452556]\n",
      " [0.         1.14087572]]\n",
      "[[1.39122884 1.52311965]\n",
      " [0.         1.46181797]]\n"
     ]
    }
   ],
   "source": [
    "def check_matrix(a: np.array):\n",
    "    (n, d) = a.shape\n",
    "    x = np.zeros([n,n])\n",
    "    for i in range(n) : \n",
    "        x[i,i] = np.linalg.norm(a[i,:])\n",
    "        \n",
    "    for i in range(n):\n",
    "        for j in range(i+1,n):\n",
    "            x[i,j] = np.dot(a[i,:], a[j,:])\n",
    "            if x[i,j] < 1e-5:\n",
    "                x[i,j] = 0 \n",
    "    \n",
    "    print(x)\n",
    "            \n",
    "for a in generate_random_orthonormal_matrix(2,5) :            \n",
    "    check_matrix(a)"
   ]
  },
  {
   "cell_type": "markdown",
   "id": "f2b48118",
   "metadata": {},
   "source": [
    "# Random Projection "
   ]
  },
  {
   "cell_type": "code",
   "execution_count": 3,
   "id": "f02bf7a6",
   "metadata": {},
   "outputs": [],
   "source": [
    "class DistortionParam:\n",
    "    def __init__(self, value=0.1):\n",
    "        if not (0 < value < 1):\n",
    "            raise ValueError(\"Value must be in the interval (0, 1)\")\n",
    "        self.value = value\n",
    "        \n",
    "        \n",
    "def random_projection(cloud_of_points: np.array, distortion : DistortionParam): \n",
    "    (n, d) = cloud_of_points.shape \n",
    "    ϵ = distortion.value \n",
    "    k = 9*log(n)/(ϵ*ϵ)\n",
    "    \n",
    "    return 0 "
   ]
  },
  {
   "cell_type": "code",
   "execution_count": 4,
   "id": "59d2e813",
   "metadata": {},
   "outputs": [],
   "source": [
    "cloud_of_points = np.array([[1,2,3],\n",
    "                            [3,4,5]])"
   ]
  },
  {
   "cell_type": "markdown",
   "id": "74dc75fd",
   "metadata": {},
   "source": [
    "# Extra, Optional Material: Maximum cut  \n",
    "\n",
    "\n",
    "Before we show the Goemans-Williamson approximation algorithm for Max cut \n",
    "*Exercise* : Prove that the maximum cut problem is NP-complete"
   ]
  },
  {
   "cell_type": "code",
   "execution_count": 103,
   "id": "a5156992",
   "metadata": {},
   "outputs": [
    {
     "name": "stdout",
     "output_type": "stream",
     "text": [
      "Welcome to the CBC MILP Solver \n",
      "Version: 2.10.3 \n",
      "Build Date: Dec 15 2019 \n",
      "\n",
      "command line - /usr/local/lib/python3.11/site-packages/pulp/solverdir/cbc/osx/64/cbc /var/folders/sr/hg005qrx2fx6l35d054k7k9h0000gn/T/caab277e00c04f798f970ffe2f133d59-pulp.mps max timeMode elapsed branch printingOptions all solution /var/folders/sr/hg005qrx2fx6l35d054k7k9h0000gn/T/caab277e00c04f798f970ffe2f133d59-pulp.sol (default strategy 1)\n",
      "At line 2 NAME          MODEL\n",
      "At line 3 ROWS\n",
      "At line 15 COLUMNS\n",
      "At line 69 RHS\n",
      "At line 80 BOUNDS\n",
      "At line 90 ENDATA\n",
      "Problem MODEL has 10 rows, 9 columns and 30 elements\n",
      "Coin0008I MODEL read with 0 errors\n",
      "Option for timeMode changed from cpu to elapsed\n",
      "Continuous objective value is 24 - 0.00 seconds\n",
      "Cgl0004I processed model has 10 rows, 9 columns (9 integer (9 of which binary)) and 30 elements\n",
      "Cutoff increment increased from 1e-05 to 0.9999\n",
      "Cbc0038I Initial state - 4 integers unsatisfied sum - 2\n",
      "Cbc0038I Pass   1: suminf.    2.00000 (4) obj. -24 iterations 2\n",
      "Cbc0038I Pass   2: suminf.    2.00000 (4) obj. -24 iterations 5\n",
      "Cbc0038I Pass   3: suminf.    0.00000 (0) obj. -7 iterations 7\n",
      "Cbc0038I Solution found of -7\n",
      "Cbc0038I Rounding solution of -9 is better than previous of -7\n",
      "\n",
      "Cbc0038I Before mini branch and bound, 2 integers at bound fixed and 0 continuous\n",
      "Cbc0038I Full problem 10 rows 9 columns, reduced to 10 rows 7 columns\n",
      "Cbc0038I Mini branch and bound improved solution from -9 to -17 (0.00 seconds)\n",
      "Cbc0038I Round again with cutoff of -18.5999\n",
      "Cbc0038I Reduced cost fixing fixed 1 variables on major pass 2\n",
      "Cbc0038I Pass   4: suminf.    2.00000 (4) obj. -24 iterations 0\n",
      "Cbc0038I Pass   5: suminf.    2.00000 (4) obj. -24 iterations 5\n",
      "Cbc0038I Pass   6: suminf.    2.00000 (4) obj. -24 iterations 0\n",
      "Cbc0038I Pass   7: suminf.    0.00000 (0) obj. -21 iterations 5\n",
      "Cbc0038I Solution found of -21\n",
      "Cbc0038I Before mini branch and bound, 4 integers at bound fixed and 0 continuous\n",
      "Cbc0038I Full problem 10 rows 9 columns, reduced to 10 rows 5 columns\n",
      "Cbc0038I Mini branch and bound did not improve solution (0.00 seconds)\n",
      "Cbc0038I Round again with cutoff of -22.3999\n",
      "Cbc0038I Reduced cost fixing fixed 5 variables on major pass 3\n",
      "Cbc0038I Pass   8: suminf.    2.00000 (4) obj. -24 iterations 0\n",
      "Cbc0038I Pass   9: suminf.    2.00000 (4) obj. -24 iterations 5\n",
      "Cbc0038I Pass  10: suminf.    2.00000 (4) obj. -24 iterations 0\n",
      "Cbc0038I Pass  11: suminf.    2.00000 (4) obj. -24 iterations 2\n",
      "Cbc0038I Pass  12: suminf.    2.00000 (4) obj. -24 iterations 1\n",
      "Cbc0038I Pass  13: suminf.    2.00000 (4) obj. -24 iterations 1\n",
      "Cbc0038I Pass  14: suminf.    2.00000 (4) obj. -24 iterations 3\n",
      "Cbc0038I Pass  15: suminf.    2.00000 (4) obj. -24 iterations 2\n",
      "Cbc0038I Pass  16: suminf.    2.00000 (4) obj. -24 iterations 0\n",
      "Cbc0038I Pass  17: suminf.    2.00000 (4) obj. -24 iterations 2\n",
      "Cbc0038I Pass  18: suminf.    2.00000 (4) obj. -24 iterations 3\n",
      "Cbc0038I Pass  19: suminf.    2.00000 (4) obj. -24 iterations 0\n",
      "Cbc0038I Pass  20: suminf.    2.00000 (4) obj. -24 iterations 2\n",
      "Cbc0038I Pass  21: suminf.    2.00000 (4) obj. -24 iterations 2\n",
      "Cbc0038I Pass  22: suminf.    2.00000 (4) obj. -24 iterations 0\n",
      "Cbc0038I Pass  23: suminf.    2.00000 (4) obj. -24 iterations 2\n",
      "Cbc0038I Pass  24: suminf.    2.00000 (4) obj. -24 iterations 2\n",
      "Cbc0038I Pass  25: suminf.    2.00000 (4) obj. -24 iterations 3\n",
      "Cbc0038I Pass  26: suminf.    2.00000 (4) obj. -24 iterations 1\n",
      "Cbc0038I Pass  27: suminf.    2.00000 (4) obj. -24 iterations 0\n",
      "Cbc0038I Pass  28: suminf.    2.00000 (4) obj. -24 iterations 2\n",
      "Cbc0038I Pass  29: suminf.    2.00000 (4) obj. -24 iterations 3\n",
      "Cbc0038I Pass  30: suminf.    2.00000 (4) obj. -24 iterations 0\n",
      "Cbc0038I Pass  31: suminf.    2.00000 (4) obj. -24 iterations 0\n",
      "Cbc0038I Pass  32: suminf.    2.00000 (4) obj. -24 iterations 2\n",
      "Cbc0038I Pass  33: suminf.    2.00000 (4) obj. -24 iterations 2\n",
      "Cbc0038I Pass  34: suminf.    2.00000 (4) obj. -24 iterations 0\n",
      "Cbc0038I Pass  35: suminf.    2.00000 (4) obj. -24 iterations 2\n",
      "Cbc0038I Pass  36: suminf.    2.00000 (4) obj. -24 iterations 2\n",
      "Cbc0038I Pass  37: suminf.    2.00000 (4) obj. -24 iterations 3\n",
      "Cbc0038I No solution found this major pass\n",
      "Cbc0038I Before mini branch and bound, 5 integers at bound fixed and 0 continuous\n",
      "Cbc0038I Full problem 10 rows 9 columns, reduced to 10 rows 4 columns\n",
      "Cbc0038I Mini branch and bound did not improve solution (0.01 seconds)\n",
      "Cbc0038I After 0.01 seconds - Feasibility pump exiting with objective of -21 - took 0.00 seconds\n",
      "Cbc0012I Integer solution of -21 found by feasibility pump after 0 iterations and 0 nodes (0.01 seconds)\n",
      "Cbc0038I Full problem 10 rows 9 columns, reduced to 10 rows 4 columns\n",
      "Cbc0006I The LP relaxation is infeasible or too expensive\n",
      "Cbc0013I At root node, 0 cuts changed objective from -24 to -24 in 1 passes\n",
      "Cbc0014I Cut generator 0 (Probing) - 1 row cuts average 0.0 elements, 0 column cuts (0 active)  in 0.000 seconds - new frequency is 1\n",
      "Cbc0014I Cut generator 1 (Gomory) - 0 row cuts average 0.0 elements, 0 column cuts (0 active)  in 0.000 seconds - new frequency is -100\n",
      "Cbc0014I Cut generator 2 (Knapsack) - 0 row cuts average 0.0 elements, 0 column cuts (0 active)  in 0.000 seconds - new frequency is -100\n",
      "Cbc0014I Cut generator 3 (Clique) - 0 row cuts average 0.0 elements, 0 column cuts (0 active)  in 0.000 seconds - new frequency is -100\n",
      "Cbc0014I Cut generator 4 (MixedIntegerRounding2) - 0 row cuts average 0.0 elements, 0 column cuts (0 active)  in 0.000 seconds - new frequency is -100\n",
      "Cbc0014I Cut generator 5 (FlowCover) - 0 row cuts average 0.0 elements, 0 column cuts (0 active)  in 0.000 seconds - new frequency is -100\n",
      "Cbc0014I Cut generator 6 (TwoMirCuts) - 0 row cuts average 0.0 elements, 0 column cuts (0 active)  in 0.000 seconds - new frequency is -100\n",
      "Cbc0014I Cut generator 7 (ZeroHalf) - 0 row cuts average 0.0 elements, 0 column cuts (0 active)  in 0.000 seconds - new frequency is -100\n",
      "Cbc0001I Search completed - best objective -21, took 0 iterations and 0 nodes (0.01 seconds)\n",
      "Cbc0035I Maximum depth 0, 4 variables fixed on reduced cost\n",
      "Cuts at root node changed objective from -24 to -24\n",
      "Probing was tried 1 times and created 1 cuts of which 0 were active after adding rounds of cuts (0.000 seconds)\n",
      "Gomory was tried 0 times and created 0 cuts of which 0 were active after adding rounds of cuts (0.000 seconds)\n",
      "Knapsack was tried 0 times and created 0 cuts of which 0 were active after adding rounds of cuts (0.000 seconds)\n",
      "Clique was tried 0 times and created 0 cuts of which 0 were active after adding rounds of cuts (0.000 seconds)\n",
      "MixedIntegerRounding2 was tried 0 times and created 0 cuts of which 0 were active after adding rounds of cuts (0.000 seconds)\n",
      "FlowCover was tried 0 times and created 0 cuts of which 0 were active after adding rounds of cuts (0.000 seconds)\n",
      "TwoMirCuts was tried 0 times and created 0 cuts of which 0 were active after adding rounds of cuts (0.000 seconds)\n",
      "ZeroHalf was tried 0 times and created 0 cuts of which 0 were active after adding rounds of cuts (0.000 seconds)\n",
      "\n",
      "Result - Optimal solution found\n",
      "\n",
      "Objective value:                21.00000000\n",
      "Enumerated nodes:               0\n",
      "Total iterations:               0\n",
      "Time (CPU seconds):             0.01\n",
      "Time (Wallclock seconds):       0.01\n",
      "\n",
      "Option for printingOptions changed from normal to all\n",
      "Total time (CPU seconds):       0.01   (Wallclock seconds):       0.01\n",
      "\n",
      "Max Cut Value: 21.0\n",
      "Set 1: [1, 2]\n",
      "Set 2: [0, 3]\n"
     ]
    }
   ],
   "source": [
    "def max_cut_ilp_solver(graph):\n",
    "    # Create a PuLP ILP problem\n",
    "    max_cut_problem = pulp.LpProblem(\"MaxCutProblem\", pulp.LpMaximize)\n",
    "    \n",
    "    # Binary variables to represent the cut (1 if the node is in one set, 0 otherwise)\n",
    "    nodes = list(graph.nodes())\n",
    "    x = pulp.LpVariable.dicts(\"x\", nodes, 0, 1, pulp.LpBinary)\n",
    "    \n",
    "    # Binary variables to represent the edges of the cut\n",
    "    edges = list(graph.edges())\n",
    "    y = pulp.LpVariable.dicts(\"y\", edges, 0, 1, pulp.LpBinary)\n",
    "    \n",
    "    # Maximize the cut value (sum of edge weights crossing the cut)\n",
    "    max_cut_problem += pulp.lpSum(graph[u][v]['weight'] * y[(u, v)] for (u, v) in edges), \"MaximizeCut\"\n",
    "    \n",
    "    # Add constraints y_uv <= x_u + x_v\n",
    "    for (u, v) in edges:\n",
    "        max_cut_problem += y[(u, v)] <= x[u] + x[v], f\"Constraint_y_{u}_{v}_1\"\n",
    "    \n",
    "    # Add constraints y_uv <= 2 - x_u - x_v\n",
    "    for (u, v) in edges:\n",
    "        max_cut_problem += y[(u, v)] <= 2 - x[u] - x[v], f\"Constraint_y_{u}_{v}_2\"\n",
    "    \n",
    "    # Solve the ILP problem\n",
    "    max_cut_problem.solve()\n",
    "    \n",
    "    # Extract the results\n",
    "    max_cut_value = pulp.value(max_cut_problem.objective)\n",
    "    max_cut_set1 = [node for node in nodes if pulp.value(x[node]) == 1]\n",
    "    max_cut_set2 = [node for node in nodes if pulp.value(x[node]) == 0]\n",
    "    \n",
    "    return max_cut_value, max_cut_set1, max_cut_set2\n",
    "\n",
    "G = nx.Graph()\n",
    "G.add_edge(0, 1, weight=10)\n",
    "G.add_edge(0, 2, weight=2)\n",
    "G.add_edge(1, 2, weight=3)\n",
    "G.add_edge(1, 3, weight=4)\n",
    "G.add_edge(2, 3, weight=5)\n",
    "\n",
    "max_cut_value, max_cut_set1, max_cut_set2 = max_cut_ilp_solver(G)\n",
    "print(\"Max Cut Value:\", max_cut_value)\n",
    "print(\"Set 1:\", max_cut_set1)\n",
    "print(\"Set 2:\", max_cut_set2)\n"
   ]
  },
  {
   "cell_type": "code",
   "execution_count": null,
   "id": "408c3008",
   "metadata": {},
   "outputs": [],
   "source": [
    "# Example usage:\n",
    "G = nx.Graph()\n",
    "G.add_edge(0, 1, weight=5)\n",
    "G.add_edge(0, 2, weight=3)\n",
    "G.add_edge(1, 2, weight=4)\n",
    "G.add_edge(1, 3, weight=2)\n",
    "G.add_edge(2, 3, weight=1)\n",
    "\n",
    "\n",
    "# Draw edge labels\n",
    "edge_labels = {(u, v): G[u][v]['weight'] for u, v in G.edges()}\n",
    "\n",
    "\n",
    "\n",
    "S = {2,3}\n",
    "pos = nx.spring_layout(G)\n",
    "nx.draw(G, pos, with_labels=True, node_color='skyblue', node_size=500, font_size=12, font_weight='bold', width=1.5, edge_color='gray')\n",
    "# Draw the nodes in set S with a different color\n",
    "nx.draw_networkx_nodes(G, pos, nodelist=S, node_color='red', node_size=500)\n",
    "\n",
    "# Highlight the edges across the partition (S, V \\ S) by increasing their width\n",
    "edge_widths = [6.5 if (u in S and v not in S) or (u not in S and v in S) else 1.0 for u, v in G.edges()]\n",
    "nx.draw_networkx_edges(G, pos, width=edge_widths, alpha=0.7, edge_color='gray')\n",
    "\n",
    "nx.draw_networkx_edge_labels(G, pos, edge_labels=edge_labels, font_size=10)\n"
   ]
  },
  {
   "cell_type": "code",
   "execution_count": null,
   "id": "652a02eb",
   "metadata": {},
   "outputs": [],
   "source": []
  }
 ],
 "metadata": {
  "kernelspec": {
   "display_name": "Python 3 (ipykernel)",
   "language": "python",
   "name": "python3"
  },
  "language_info": {
   "codemirror_mode": {
    "name": "ipython",
    "version": 3
   },
   "file_extension": ".py",
   "mimetype": "text/x-python",
   "name": "python",
   "nbconvert_exporter": "python",
   "pygments_lexer": "ipython3",
   "version": "3.11.5"
  }
 },
 "nbformat": 4,
 "nbformat_minor": 5
}
